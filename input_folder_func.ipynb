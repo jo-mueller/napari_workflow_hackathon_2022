{
 "cells": [
  {
   "cell_type": "code",
   "execution_count": 1,
   "id": "mathematical-ballet",
   "metadata": {},
   "outputs": [],
   "source": [
    "import napari\n",
    "import os"
   ]
  },
  {
   "cell_type": "code",
   "execution_count": 3,
<<<<<<< Updated upstream
   "id": "suffering-vermont",
   "metadata": {},
   "outputs": [],
   "source": [
    "files_path = os.path.abspath(\"/Users/fernandesm/Downloads/Wormhole P92eZ/211229\")"
   ]
  },
  {
   "cell_type": "code",
   "execution_count": 4,
   "id": "japanese-sampling",
   "metadata": {},
   "outputs": [
    {
     "name": "stdout",
     "output_type": "stream",
     "text": [
      "./.DS_Store\n",
      "./LICENSE\n",
      "./README.md\n",
      "./input_folder_func.ipynb\n",
      "./.gitignore\n",
      "./.git\n",
      "./notebooks\n",
      "./.git/ORIG_HEAD\n",
      "./.git/config\n",
      "./.git/HEAD\n",
      "./.git/description\n",
      "./.git/index\n",
      "./.git/packed-refs\n",
      "./.git/FETCH_HEAD\n",
      "./.git/objects\n",
      "./.git/info\n",
      "./.git/logs\n",
      "./.git/hooks\n",
      "./.git/refs\n",
      "./.git/objects/6a\n",
      "./.git/objects/0e\n",
      "./.git/objects/9d\n",
      "./.git/objects/bb\n",
      "./.git/objects/bd\n",
      "./.git/objects/f4\n",
      "./.git/objects/ee\n",
      "./.git/objects/c9\n",
      "./.git/objects/e4\n",
      "./.git/objects/c8\n",
      "./.git/objects/ec\n",
      "./.git/objects/pack\n",
      "./.git/objects/87\n",
      "./.git/objects/80\n",
      "./.git/objects/81\n",
      "./.git/objects/09\n",
      "./.git/objects/info\n",
      "./.git/objects/08\n",
      "./.git/objects/01\n",
      "./.git/objects/a7\n",
      "./.git/objects/dd\n",
      "./.git/objects/d5\n",
      "./.git/objects/e9\n",
      "./.git/objects/e0\n",
      "./.git/objects/83\n",
      "./.git/objects/84\n",
      "./.git/objects/1c\n",
      "./.git/objects/2e\n",
      "./.git/objects/6a/334bf8e4e3649c28c8b4d4082e761815be09d9\n",
      "./.git/objects/0e/f3f0f2b4f661aef6d0e0dfa9fd72e3e8251d24\n",
      "./.git/objects/9d/afd2d7a45c12849c66ca6dabc2c9993f0584c7\n",
      "./.git/objects/bb/56c286bc9c2c0408dd1d97353fc1f3cd4380c7\n",
      "./.git/objects/bd/f17c1dc1314f2c47fab0bd76c7dbb0bdeaf88e\n",
      "./.git/objects/f4/079e0fb4b7c6e090aef5aa1e9c4be9b3b1b506\n",
      "./.git/objects/ee/1e94ca7e24bcbb8adf432e54cb76c0269386f3\n",
      "./.git/objects/c9/2ae96eb80e9a0fb323fc5547fae0298c0cfe97\n",
      "./.git/objects/e4/c1e5af72f4c9bd481bfdf593b990b93e0df7a5\n",
      "./.git/objects/c8/0f2c5edac99c33c722d13340fc10e3551c4cc2\n",
      "./.git/objects/ec/ca45213fbba0f67c2c2079621c0a0327a90228\n",
      "./.git/objects/pack/pack-44a8ad131557519f36620a313e01970734fd6223.idx\n",
      "./.git/objects/pack/pack-44a8ad131557519f36620a313e01970734fd6223.pack\n",
      "./.git/objects/87/788206104c708cd0e45c169bb9a142acc56197\n",
      "./.git/objects/80/66725ccd3041b64d8f985fc2ec9e94eda20251\n",
      "./.git/objects/81/74354d1e70cf546a9bb87f1d232a878eece91a\n",
      "./.git/objects/09/6e9aa713b6b1ea17a629e79b9e5a7426d84615\n",
      "./.git/objects/08/ff52b85971dfff97b3ed465aabba144511e749\n",
      "./.git/objects/01/84dde1bfdc4740d16943a329ff68427c602a8e\n",
      "./.git/objects/01/b89134ba8df396bccb64b35507483758f06292\n",
      "./.git/objects/a7/58749440972f80cf917fc931ae04d889f83fee\n",
      "./.git/objects/a7/97bea13ebf2da1e556de1e3817ae910fa2a411\n",
      "./.git/objects/dd/08bc480a2b1e6482406705fb01484475848e52\n",
      "./.git/objects/dd/3c467c185975b91327af65da0698452b79e7ed\n",
      "./.git/objects/dd/5cc3ef7be3342c6d00226d912a15b678c663e6\n",
      "./.git/objects/d5/e93752c281e90262c440a00489e62d09be7da5\n",
      "./.git/objects/e9/89e4707ff385b838ee039e32b264d21ca484cb\n",
      "./.git/objects/e0/f32a48cb361e723d7e3f05a3c1f9268a72ebd6\n",
      "./.git/objects/83/d03c9b8b37ee87355ad40fa4be9ba7f759ee20\n",
      "./.git/objects/83/6971209cee69067af38722a29ecae4dfc9e9a3\n",
      "./.git/objects/84/fedb4ad2985fef1ff822f5de89fc5e22d24c0d\n",
      "./.git/objects/1c/d7ac55947083a26c3c6d7e2f75d0c613314849\n",
      "./.git/objects/2e/71bfbc0a5ae751ccc5b470e19b1a9e665facb0\n",
      "./.git/info/exclude\n",
      "./.git/logs/HEAD\n",
      "./.git/logs/refs\n",
      "./.git/logs/refs/heads\n",
      "./.git/logs/refs/remotes\n",
      "./.git/logs/refs/heads/folder_input\n",
      "./.git/logs/refs/heads/create-workflow\n",
      "./.git/logs/refs/heads/create-input-list\n",
      "./.git/logs/refs/heads/main\n",
      "./.git/logs/refs/remotes/origin\n",
      "./.git/logs/refs/remotes/origin/folder_input\n",
      "./.git/logs/refs/remotes/origin/create-workflow\n",
      "./.git/logs/refs/remotes/origin/create-input-list\n",
      "./.git/logs/refs/remotes/origin/HEAD\n",
      "./.git/logs/refs/remotes/origin/main\n",
      "./.git/hooks/commit-msg.sample\n",
      "./.git/hooks/pre-rebase.sample\n",
      "./.git/hooks/pre-commit.sample\n",
      "./.git/hooks/applypatch-msg.sample\n",
      "./.git/hooks/fsmonitor-watchman.sample\n",
      "./.git/hooks/pre-receive.sample\n",
      "./.git/hooks/prepare-commit-msg.sample\n",
      "./.git/hooks/post-update.sample\n",
      "./.git/hooks/pre-merge-commit.sample\n",
      "./.git/hooks/pre-applypatch.sample\n",
      "./.git/hooks/pre-push.sample\n",
      "./.git/hooks/update.sample\n",
      "./.git/hooks/push-to-checkout.sample\n",
      "./.git/refs/heads\n",
      "./.git/refs/tags\n",
      "./.git/refs/remotes\n",
      "./.git/refs/heads/folder_input\n",
      "./.git/refs/heads/create-workflow\n",
      "./.git/refs/heads/create-input-list\n",
      "./.git/refs/heads/main\n",
      "./.git/refs/remotes/origin\n",
      "./.git/refs/remotes/origin/folder_input\n",
      "./.git/refs/remotes/origin/create-workflow\n",
      "./.git/refs/remotes/origin/create-input-list\n",
      "./.git/refs/remotes/origin/HEAD\n",
      "./.git/refs/remotes/origin/main\n",
      "./notebooks/Untitled.ipynb\n",
      "./notebooks/create_workflow_and_exchange_input.ipynb\n",
      "./notebooks/.ipynb_checkpoints\n",
      "./notebooks/.ipynb_checkpoints/create_workflow_and_exchange_input-checkpoint.ipynb\n",
      "./notebooks/.ipynb_checkpoints/Untitled-checkpoint.ipynb\n"
     ]
    }
   ],
   "source": [
    "for root, dirs, files in os.walk(\".\", topdown=True):\n",
    "   for name in files:\n",
    "      print(os.path.join(root, name))\n",
    "   for name in dirs:\n",
    "      print(os.path.join(root, name))"
   ]
  },
  {
   "cell_type": "code",
   "execution_count": 13,
   "id": "5c1f8d8c",
=======
   "id": "0242b9fa",
>>>>>>> Stashed changes
   "metadata": {},
   "outputs": [
    {
     "name": "stdout",
     "output_type": "stream",
     "text": [
<<<<<<< Updated upstream
      "/Users/fernandesm/Downloads/Wormhole P92eZ/211229/P2/CS1/20211229 P2 CS1 Cell A0001f.tif\n",
=======
      "/Users/fernandesm/Downloads/Wormhole P92eZ/211229/P2/CS1/20211229 P2 CS1 Cell A0003_processed.tif\n",
      "/Users/fernandesm/Downloads/Wormhole P92eZ/211229/P2/CS1/20211229 P2 CS1 Cell A0001f.tif\n",
      "/Users/fernandesm/Downloads/Wormhole P92eZ/211229/P2/CS1/20211229 P2 CS1 Cell A0001_processed.tif\n",
      "/Users/fernandesm/Downloads/Wormhole P92eZ/211229/P2/CS1/20211229 P2 CS1 Cell A0002_processed.tif\n",
      "/Users/fernandesm/Downloads/Wormhole P92eZ/211229/P2/CS1/20211229 P2 CS1 Cell A0001f_processed.tif\n",
>>>>>>> Stashed changes
      "/Users/fernandesm/Downloads/Wormhole P92eZ/211229/P2/CS1/20211229 P2 CS1 Cell A0001.tif\n",
      "/Users/fernandesm/Downloads/Wormhole P92eZ/211229/P2/CS1/20211229 P2 CS1 Cell A0003.tif\n",
      "/Users/fernandesm/Downloads/Wormhole P92eZ/211229/P2/CS1/20211229 P2 CS1 Cell A0002.tif\n"
     ]
    }
   ],
   "source": [
<<<<<<< Updated upstream
    "import glob\n",
    "for f in glob.glob('/Users/fernandesm/Downloads/Wormhole P92eZ/211229/P2/CS1/*.tif', recursive=True):\n",
    "    print(f)"
   ]
  },
  {
   "cell_type": "code",
   "execution_count": 15,
   "id": "0242b9fa",
   "metadata": {},
   "outputs": [],
   "source": [
=======
>>>>>>> Stashed changes
    "import tkinter as tk\n",
    "from tkinter import filedialog\n",
    "\n",
    "import glob\n",
    "\n",
    "root = tk.Tk()\n",
    "root.withdraw()\n",
    "\n",
<<<<<<< Updated upstream
    "file_path = filedialog.askopenfilename()\n",
=======
    "file_path = filedialog.askdirectory()\n",
>>>>>>> Stashed changes
    "\n",
    "for f in glob.glob(file_path + '/*.tif', recursive=True):\n",
    "    print(f)"
   ]
  },
  {
   "cell_type": "code",
<<<<<<< Updated upstream
   "execution_count": 9,
   "id": "banner-paintball",
   "metadata": {},
   "outputs": [
    {
     "name": "stdout",
     "output_type": "stream",
     "text": [
      "LICENSE                  input_folder_func.ipynb\n",
      "README.md                \u001b[1m\u001b[36mnotebooks\u001b[m\u001b[m/\n"
     ]
    }
   ],
   "source": [
    "ls"
   ]
  },
  {
   "cell_type": "code",
=======
>>>>>>> Stashed changes
   "execution_count": null,
   "id": "b48fb6c2",
   "metadata": {},
   "outputs": [],
   "source": []
  }
 ],
 "metadata": {
  "kernelspec": {
<<<<<<< Updated upstream
   "display_name": "Python 3",
=======
   "display_name": "Python 3 (ipykernel)",
>>>>>>> Stashed changes
   "language": "python",
   "name": "python3"
  },
  "language_info": {
   "codemirror_mode": {
    "name": "ipython",
    "version": 3
   },
   "file_extension": ".py",
   "mimetype": "text/x-python",
   "name": "python",
   "nbconvert_exporter": "python",
   "pygments_lexer": "ipython3",
<<<<<<< Updated upstream
   "version": "3.8.12"
=======
   "version": "3.8.8"
>>>>>>> Stashed changes
  }
 },
 "nbformat": 4,
 "nbformat_minor": 5
}
