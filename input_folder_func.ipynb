{
 "cells": [
  {
   "cell_type": "code",
   "execution_count": 2,
   "id": "mathematical-ballet",
   "metadata": {},
   "outputs": [],
   "source": [
    "import napari\n",
    "import os"
   ]
  },
  {
   "cell_type": "code",
   "execution_count": 9,
   "id": "suffering-vermont",
   "metadata": {},
   "outputs": [],
   "source": [
    "files_path = os.path.abspath(\"~/Documents/SR_experiments\")"
   ]
  },
  {
   "cell_type": "code",
   "execution_count": 10,
   "id": "japanese-sampling",
   "metadata": {},
   "outputs": [],
   "source": [
    "for root, dirs, files in os.walk(files_path, topdown=True):\n",
    "   for name in files:\n",
    "      print(os.path.join(root, name))\n",
    "   for name in dirs:\n",
    "      print(os.path.join(root, name))"
   ]
  },
  {
   "cell_type": "code",
   "execution_count": null,
   "id": "banner-paintball",
   "metadata": {},
   "outputs": [],
   "source": []
  }
 ],
 "metadata": {
  "kernelspec": {
   "display_name": "Python 3",
   "language": "python",
   "name": "python3"
  },
  "language_info": {
   "codemirror_mode": {
    "name": "ipython",
    "version": 3
   },
   "file_extension": ".py",
   "mimetype": "text/x-python",
   "name": "python",
   "nbconvert_exporter": "python",
   "pygments_lexer": "ipython3",
   "version": "3.8.8"
  }
 },
 "nbformat": 4,
 "nbformat_minor": 5
}
