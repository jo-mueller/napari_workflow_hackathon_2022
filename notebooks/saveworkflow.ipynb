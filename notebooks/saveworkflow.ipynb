{
 "cells": [
  {
   "cell_type": "code",
   "execution_count": 8,
   "id": "41456512",
   "metadata": {},
   "outputs": [],
   "source": [
    "import os\n",
    "import yaml\n",
    "\n",
    "from napari_workflows import Workflow\n",
    "import pyclesperanto_prototype as cle\n",
    "import tifffile\n",
    "\n",
    "import napari\n",
    "\n",
    "import pickle"
   ]
  },
  {
   "cell_type": "code",
   "execution_count": 5,
   "id": "3d3bb5a6",
   "metadata": {},
   "outputs": [],
   "source": [
    "w = Workflow()"
   ]
  },
  {
   "cell_type": "code",
   "execution_count": 6,
   "id": "123d410b",
   "metadata": {},
   "outputs": [],
   "source": [
    "w.set(\"blurred\", cle.gaussian_blur, \"input\", sigma_x=10, sigma_y=10)"
   ]
  },
  {
   "cell_type": "code",
   "execution_count": 7,
   "id": "bccdc96c",
   "metadata": {},
   "outputs": [],
   "source": [
    "stream = open('document.yaml', 'w')\n",
    "yaml.dump(w, stream)\n",
    "stream.close()"
   ]
  },
  {
   "cell_type": "code",
   "execution_count": 36,
   "id": "5eec9c88",
   "metadata": {},
   "outputs": [],
   "source": []
  },
  {
   "cell_type": "code",
   "execution_count": 9,
   "id": "10c5fdba",
   "metadata": {},
   "outputs": [],
   "source": [
    "with open(\"workflow.pickle\", \"wb\") as p:\n",
    "    pickle.dump(w, p)"
   ]
  },
  {
   "cell_type": "code",
   "execution_count": null,
   "id": "4e00c031",
   "metadata": {},
   "outputs": [],
   "source": []
  }
 ],
 "metadata": {
  "kernelspec": {
   "display_name": "py39",
   "language": "python",
   "name": "py39"
  },
  "language_info": {
   "codemirror_mode": {
    "name": "ipython",
    "version": 3
   },
   "file_extension": ".py",
   "mimetype": "text/x-python",
   "name": "python",
   "nbconvert_exporter": "python",
   "pygments_lexer": "ipython3",
   "version": "3.9.7"
  }
 },
 "nbformat": 4,
 "nbformat_minor": 5
}
