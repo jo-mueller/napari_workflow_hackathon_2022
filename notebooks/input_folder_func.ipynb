{
 "cells": [
  {
   "cell_type": "code",
   "execution_count": 4,
   "id": "5bb68af6",
   "metadata": {},
   "outputs": [],
   "source": [
    "import napari\n",
    "import os\n",
    "import tkinter as tk\n",
    "from tkinter import filedialog\n",
    "import glob"
   ]
  },
  {
   "cell_type": "code",
   "execution_count": 5,
   "id": "118ee1ac",
   "metadata": {},
   "outputs": [
    {
     "name": "stdout",
     "output_type": "stream",
     "text": [
      "/Users/fernandesm/Downloads/Wormhole P92eZ/211229/P2/CS1/20211229 P2 CS1 Cell A0003_processed.tif\n",
      "/Users/fernandesm/Downloads/Wormhole P92eZ/211229/P2/CS1/20211229 P2 CS1 Cell A0001f.tif\n",
      "/Users/fernandesm/Downloads/Wormhole P92eZ/211229/P2/CS1/20211229 P2 CS1 Cell A0001_processed.tif\n",
      "/Users/fernandesm/Downloads/Wormhole P92eZ/211229/P2/CS1/20211229 P2 CS1 Cell A0002_processed.tif\n",
      "/Users/fernandesm/Downloads/Wormhole P92eZ/211229/P2/CS1/20211229 P2 CS1 Cell A0001f_processed.tif\n",
      "/Users/fernandesm/Downloads/Wormhole P92eZ/211229/P2/CS1/20211229 P2 CS1 Cell A0001.tif\n",
      "/Users/fernandesm/Downloads/Wormhole P92eZ/211229/P2/CS1/20211229 P2 CS1 Cell A0003.tif\n",
      "/Users/fernandesm/Downloads/Wormhole P92eZ/211229/P2/CS1/20211229 P2 CS1 Cell A0002.tif\n"
     ]
    }
   ],
   "source": [
    "root = tk.Tk()\n",
    "root.withdraw()\n",
    "\n",
    "file_path = filedialog.askdirectory()\n",
    "\n",
    "for f in glob.glob(file_path + '/*.tif', recursive=True):\n",
    "    print(f)"
   ]
  },
  {
   "cell_type": "code",
   "execution_count": null,
   "id": "22a5a6d5",
   "metadata": {},
   "outputs": [],
   "source": []
  }
 ],
 "metadata": {
  "kernelspec": {
   "display_name": "napari-env",
   "language": "python",
   "name": "napari-env"
  },
  "language_info": {
   "codemirror_mode": {
    "name": "ipython",
    "version": 3
   },
   "file_extension": ".py",
   "mimetype": "text/x-python",
   "name": "python",
   "nbconvert_exporter": "python",
   "pygments_lexer": "ipython3",
   "version": "3.8.12"
  }
 },
 "nbformat": 4,
 "nbformat_minor": 5
}
