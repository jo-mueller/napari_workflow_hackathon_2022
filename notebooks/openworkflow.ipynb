{
 "cells": [
  {
   "cell_type": "code",
   "execution_count": null,
   "id": "10eeb659",
   "metadata": {},
   "outputs": [],
   "source": [
    "import os\n",
    "import yaml\n",
    "\n",
    "from napari_workflows import Workflow\n",
    "import pyclesperanto_prototype as cle\n",
    "import tifffile\n",
    "\n",
    "import napari\n",
    "import pickle\n"
   ]
  },
  {
   "cell_type": "code",
   "execution_count": 16,
   "id": "9f888eda",
   "metadata": {},
   "outputs": [],
   "source": [
    "with open(\"workflow.pickle\", \"rb\") as p:\n",
    "    w = pickle.load(p)"
   ]
  },
  {
   "cell_type": "code",
   "execution_count": 18,
   "id": "55c9a1e6",
   "metadata": {},
   "outputs": [
    {
     "name": "stdout",
     "output_type": "stream",
     "text": [
      "Workflow:\n",
      "blurred <- (<function gaussian_blur at 0x7ff759ec0310>, 'input', None, 10, 10, 0)\n",
      "\n"
     ]
    }
   ],
   "source": [
    "print(w)"
   ]
  },
  {
   "cell_type": "code",
   "execution_count": null,
   "id": "668d04ef",
   "metadata": {},
   "outputs": [],
   "source": [
    "w.set(\"input\", tifffile.imread(\"Data/01.tif\")[0])"
   ]
  },
  {
   "cell_type": "code",
   "execution_count": null,
   "id": "87941108",
   "metadata": {},
   "outputs": [],
   "source": [
    "res = w.get(\"blurred\")"
   ]
  },
  {
   "cell_type": "code",
   "execution_count": null,
   "id": "6dfb8731",
   "metadata": {},
   "outputs": [],
   "source": [
    "v = napari.Viewer()\n",
    "v.add_image(res)"
   ]
  },
  {
   "cell_type": "code",
   "execution_count": null,
   "id": "9cd86cd9",
   "metadata": {},
   "outputs": [],
   "source": []
  },
  {
   "cell_type": "code",
   "execution_count": null,
   "id": "7c5bc429",
   "metadata": {},
   "outputs": [],
   "source": []
  },
  {
   "cell_type": "code",
   "execution_count": null,
   "id": "30446938",
   "metadata": {},
   "outputs": [],
   "source": []
  }
 ],
 "metadata": {
  "kernelspec": {
   "display_name": "py39",
   "language": "python",
   "name": "py39"
  },
  "language_info": {
   "codemirror_mode": {
    "name": "ipython",
    "version": 3
   },
   "file_extension": ".py",
   "mimetype": "text/x-python",
   "name": "python",
   "nbconvert_exporter": "python",
   "pygments_lexer": "ipython3",
   "version": "3.9.7"
  }
 },
 "nbformat": 4,
 "nbformat_minor": 5
}
